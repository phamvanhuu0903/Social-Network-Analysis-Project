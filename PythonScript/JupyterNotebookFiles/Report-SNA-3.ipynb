{
 "cells": [
  {
   "cell_type": "code",
   "execution_count": null,
   "metadata": {},
   "outputs": [],
   "source": [
    "import pandas as pd\n",
    "import numpy as np\n",
    "###Lấy thông tin số lần tham gia sự kiện của các thành viên trong nhóm\n",
    "df1=pd.read_csv('../test/input/member-to-group-edges.csv ')\n",
    "df1.head()"
   ]
  },
  {
   "cell_type": "code",
   "execution_count": null,
   "metadata": {},
   "outputs": [],
   "source": [
    "groups=pd.read_csv('../test/input/meta-groups.csv',index_col='group_id') ###Lấy thông tin của các nhóm\n",
    "groups.head()"
   ]
  },
  {
   "cell_type": "code",
   "execution_count": null,
   "metadata": {},
   "outputs": [],
   "source": [
    "tech=groups.loc[groups.category_name=='Tech']###Lọc các nhóm thuộc danh mục 'Tech'\n",
    "tech.head()"
   ]
  },
  {
   "cell_type": "code",
   "execution_count": null,
   "metadata": {},
   "outputs": [],
   "source": [
    "df = pd.merge(df1,tech,on='group_id') ### Gộp dữ liệu 2 dataframe trên\n",
    "df.head()"
   ]
  },
  {
   "cell_type": "code",
   "execution_count": null,
   "metadata": {},
   "outputs": [],
   "source": [
    "df.groupby('group_name')['weight'].mean().sort_values(ascending=False).head() \n",
    "### Lấy giá trị trung bình số lần tham gia sự kiện của các thành viên theo tên nhóm "
   ]
  },
  {
   "cell_type": "code",
   "execution_count": null,
   "metadata": {},
   "outputs": [],
   "source": [
    "df.groupby('group_name')['weight'].count().sort_values(ascending=False).head()\n",
    "### Đếm tổng số lần tham gia sự kiện của các thành viên theo tên nhóm "
   ]
  },
  {
   "cell_type": "code",
   "execution_count": null,
   "metadata": {},
   "outputs": [],
   "source": [
    " ### Tạo 1 dataframe attendings\n",
    "attendings = pd.DataFrame(df.groupby('group_name')['weight'].mean())\n",
    "attendings.head()"
   ]
  },
  {
   "cell_type": "code",
   "execution_count": null,
   "metadata": {},
   "outputs": [],
   "source": [
    "attendings.columns=['mean_attending']"
   ]
  },
  {
   "cell_type": "code",
   "execution_count": null,
   "metadata": {},
   "outputs": [],
   "source": [
    "attendings['num of attending'] = pd.DataFrame(df.groupby('group_name')['weight'].count())\n",
    "attendings.head()"
   ]
  },
  {
   "cell_type": "code",
   "execution_count": null,
   "metadata": {},
   "outputs": [],
   "source": [
    "group_matrix = df.pivot_table(index='member_id',columns='group_name',values='weight') \n",
    "group_matrix.head()\n",
    "\n",
    "### "
   ]
  },
  {
   "cell_type": "code",
   "execution_count": null,
   "metadata": {},
   "outputs": [],
   "source": [
    "### Những nhóm có số lần tham gia sự kiện của các thành viên cao nhất\n",
    "attendings.sort_values('num of attending',ascending=False).head(10)"
   ]
  },
  {
   "cell_type": "code",
   "execution_count": null,
   "metadata": {},
   "outputs": [],
   "source": [
    "NashJS_member_attendings = group_matrix['NashJS']\n",
    "NashJS_member_attendings.head(10)"
   ]
  },
  {
   "cell_type": "code",
   "execution_count": null,
   "metadata": {},
   "outputs": [],
   "source": [
    "similar_to_NashJS = group_matrix.corrwith(NashJS_member_attendings)"
   ]
  },
  {
   "cell_type": "code",
   "execution_count": null,
   "metadata": {},
   "outputs": [],
   "source": [
    "corr_NashJS = pd.DataFrame(similar_to_NashJS,columns=['Correlation'])\n",
    "corr_NashJS.dropna(inplace=True)\n",
    "corr_NashJS.head()"
   ]
  },
  {
   "cell_type": "code",
   "execution_count": null,
   "metadata": {},
   "outputs": [],
   "source": [
    "corr_NashJS.sort_values('Correlation',ascending=False).head(10)"
   ]
  },
  {
   "cell_type": "code",
   "execution_count": null,
   "metadata": {},
   "outputs": [],
   "source": []
  }
 ],
 "metadata": {
  "kernelspec": {
   "display_name": "Python 3",
   "language": "python",
   "name": "python3"
  },
  "language_info": {
   "codemirror_mode": {
    "name": "ipython",
    "version": 3
   },
   "file_extension": ".py",
   "mimetype": "text/x-python",
   "name": "python",
   "nbconvert_exporter": "python",
   "pygments_lexer": "ipython3",
   "version": "3.7.1"
  }
 },
 "nbformat": 4,
 "nbformat_minor": 2
}
