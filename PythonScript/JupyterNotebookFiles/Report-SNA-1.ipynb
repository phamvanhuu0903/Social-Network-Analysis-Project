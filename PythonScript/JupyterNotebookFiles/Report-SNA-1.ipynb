{
 "cells": [
  {
   "cell_type": "code",
   "execution_count": null,
   "metadata": {},
   "outputs": [],
   "source": [
    "import pandas as pd\n",
    "import matplotlib.pyplot as plt\n",
    "import matplotlib.patches as mpatches\n",
    "import seaborn as sns\n",
    "import numpy as np\n",
    "plt.style.use('fivethirtyeight')\n",
    "\n",
    "## Network\n",
    "import networkx as nx \n",
    "%matplotlib inline\n",
    "import matplotlib.pyplot as plt\n",
    "import numpy as np \n",
    "import pandas as pd \n",
    "import pylab as plt \n",
    "from itertools import count \n",
    "from operator import itemgetter \n",
    "from networkx.drawing.nx_agraph import graphviz_layout \n",
    "import pylab\n",
    "\n",
    "df=pd.read_csv('../test/input/group-edges.csv')\n",
    "df.head()"
   ]
  },
  {
   "cell_type": "code",
   "execution_count": null,
   "metadata": {},
   "outputs": [],
   "source": [
    "df.info()"
   ]
  },
  {
   "cell_type": "code",
   "execution_count": null,
   "metadata": {},
   "outputs": [],
   "source": [
    "pd.set_option('precision',10)\n",
    "G = nx.from_pandas_edgelist(df, source='group1', target='group2',\n",
    "                            edge_attr='weight', \n",
    "                            create_using = nx.Graph())\n",
    "\n",
    "nodes = G.nodes()\n",
    "degree = G.degree()\n",
    "size = [(degree[n]) for n in nodes]\n",
    "\n",
    "#pos = nx.kamada_kawai_layout(G)\n",
    "#pos = nx.spring_layout(G, k = 0.2)\n",
    "#pos = nx.circular_layout(G)\n",
    "pos = nx.random_layout(G)\n",
    "cmap = plt.cm.viridis_r\n",
    "cmap = plt.cm.Purples\n",
    "\n",
    "fig = plt.figure(figsize = (15,8), dpi=150)\n",
    "\n",
    "nx.draw(G,pos,alpha = 0.8, nodelist = nodes, node_color = 'r',\n",
    "        node_size = size, with_labels= False,font_size = 6,\n",
    "        width =0.2 , edge_color ='w')\n",
    "fig.set_facecolor('#0B243B')\n",
    "\n",
    "plt.show()"
   ]
  },
  {
   "cell_type": "code",
   "execution_count": null,
   "metadata": {},
   "outputs": [],
   "source": [
    "groups=pd.read_csv('../test/input/meta-groups.csv',index_col='group_id')\n",
    "len(groups)"
   ]
  },
  {
   "cell_type": "code",
   "execution_count": null,
   "metadata": {},
   "outputs": [],
   "source": [
    "groups=groups.loc[[x for x in G.nodes]]\n",
    "len(groups)"
   ]
  },
  {
   "cell_type": "code",
   "execution_count": null,
   "metadata": {},
   "outputs": [],
   "source": [
    "groups.head()"
   ]
  },
  {
   "cell_type": "code",
   "execution_count": null,
   "metadata": {},
   "outputs": [],
   "source": [
    "groups['degree'] = pd.Series(dict(nx.degree(G)))\n",
    "groups['clustering'] = pd.Series(nx.clustering(G))\n",
    "avg_length_dict = {}\n",
    "for node, path_lengths in nx.shortest_path_length(G):\n",
    "    path_lengths = [x for x in path_lengths.values()]\n",
    "    avg_length_dict[node] = np.mean(path_lengths)\n",
    "groups['path_length'] = pd.Series(avg_length_dict)"
   ]
  },
  {
   "cell_type": "code",
   "execution_count": null,
   "metadata": {},
   "outputs": [],
   "source": [
    "groups.head()"
   ]
  },
  {
   "cell_type": "code",
   "execution_count": null,
   "metadata": {},
   "outputs": [],
   "source": [
    "groups.sort_values(by='degree', ascending=False)[['group_name','degree']].head(10)##Giảm dần"
   ]
  },
  {
   "cell_type": "code",
   "execution_count": null,
   "metadata": {},
   "outputs": [],
   "source": [
    "groups['degree_centrality'] = pd.Series(dict(nx.degree_centrality(G)))\n",
    "groups['betweenness_centrality'] = pd.Series(dict(nx.betweenness_centrality(G)))\n",
    "groups['closeness_centrality'] = pd.Series(dict(nx.closeness_centrality(G)))"
   ]
  },
  {
   "cell_type": "code",
   "execution_count": null,
   "metadata": {},
   "outputs": [],
   "source": [
    "groups.sort_values(by='betweenness_centrality', ascending=False)[['group_name','betweenness_centrality']].head(10)"
   ]
  },
  {
   "cell_type": "code",
   "execution_count": null,
   "metadata": {},
   "outputs": [],
   "source": [
    "groups.sort_values(by='degree_centrality', ascending=False)[['group_name','degree_centrality']].head(10)"
   ]
  },
  {
   "cell_type": "code",
   "execution_count": null,
   "metadata": {},
   "outputs": [],
   "source": [
    "groups.sort_values(by='closeness_centrality', ascending=False)[['group_name','closeness_centrality']].head(10)"
   ]
  },
  {
   "cell_type": "code",
   "execution_count": null,
   "metadata": {},
   "outputs": [],
   "source": [
    "fig, ax = plt.subplots(1,1, figsize=(5,10), dpi=100)\n",
    "\n",
    "sns.barplot(data=groups, x='clustering', y='category_name', \n",
    "            order=groups.groupby('category_name').clustering.mean().sort_values().index)\n",
    "ax.set_title('Trung bình hệ số phân cụm theo từng danh mục nhóm')\n",
    "\n",
    "plt.show()"
   ]
  },
  {
   "cell_type": "code",
   "execution_count": null,
   "metadata": {},
   "outputs": [],
   "source": []
  }
 ],
 "metadata": {
  "kernelspec": {
   "display_name": "Python 3",
   "language": "python",
   "name": "python3"
  },
  "language_info": {
   "codemirror_mode": {
    "name": "ipython",
    "version": 3
   },
   "file_extension": ".py",
   "mimetype": "text/x-python",
   "name": "python",
   "nbconvert_exporter": "python",
   "pygments_lexer": "ipython3",
   "version": "3.7.1"
  }
 },
 "nbformat": 4,
 "nbformat_minor": 2
}
