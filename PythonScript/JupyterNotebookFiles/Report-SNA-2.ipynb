{
 "cells": [
  {
   "cell_type": "code",
   "execution_count": null,
   "metadata": {},
   "outputs": [],
   "source": [
    "import pandas as pd\n",
    "import matplotlib.pyplot as plt\n",
    "import matplotlib.patches as mpatches\n",
    "import seaborn as sns\n",
    "import numpy as np\n",
    "plt.style.use('fivethirtyeight')\n",
    "\n",
    "## Network\n",
    "import networkx as nx \n",
    "import matplotlib.pyplot as plt \n",
    "import numpy as np \n",
    "import pandas as pd \n",
    "import pylab as plt \n",
    "from itertools import count \n",
    "from operator import itemgetter \n",
    "from networkx.drawing.nx_agraph import graphviz_layout \n",
    "import pylab\n",
    "\n",
    "df=pd.read_csv('../test/input/group-edges.csv')\n",
    "df.head()"
   ]
  },
  {
   "cell_type": "code",
   "execution_count": null,
   "metadata": {},
   "outputs": [],
   "source": [
    "g0 = nx.from_pandas_edgelist(df, source='group1', target='group2', edge_attr='weight')"
   ]
  },
  {
   "cell_type": "code",
   "execution_count": null,
   "metadata": {},
   "outputs": [],
   "source": [
    "groups=pd.read_csv('../test/input/meta-groups.csv',index_col='group_id')"
   ]
  },
  {
   "cell_type": "code",
   "execution_count": null,
   "metadata": {},
   "outputs": [],
   "source": [
    "tech=groups.loc[groups.category_name=='Tech']"
   ]
  },
  {
   "cell_type": "code",
   "execution_count": null,
   "metadata": {},
   "outputs": [],
   "source": [
    "gt = g0.subgraph(tech.index) ### Tạo đồ thị con của g0\n",
    "g = [gt.subgraph(c) for c in nx.connected_components(gt)][0]\n",
    "tech = tech.loc[(n for n in g.nodes)]"
   ]
  },
  {
   "cell_type": "code",
   "execution_count": null,
   "metadata": {},
   "outputs": [],
   "source": [
    "\n",
    "pos = nx.spring_layout(g, k = 2)\n",
    "\n",
    "fig = plt.figure(figsize = (15,8), dpi=150)\n",
    "\n",
    "nx.draw(g,pos,alpha = 0.8, node_color = 'r',\n",
    "        node_size = 80, with_labels= False,font_size = 6,\n",
    "        width =0.2 , edge_color ='w')\n",
    "fig.set_facecolor('#0B243B')\n",
    "\n",
    "plt.show()"
   ]
  },
  {
   "cell_type": "code",
   "execution_count": null,
   "metadata": {},
   "outputs": [],
   "source": [
    "tech['degree'] = pd.Series(dict(nx.degree(g)))\n",
    "tech['clustering'] = pd.Series(nx.clustering(g))\n",
    "avg_length_dict = {}\n",
    "for node, path_lengths in nx.shortest_path_length(g):\n",
    "    path_lengths = [x for x in path_lengths.values()]\n",
    "    avg_length_dict[node] = np.mean(path_lengths)\n",
    "tech['path_length'] = pd.Series(avg_length_dict)"
   ]
  },
  {
   "cell_type": "code",
   "execution_count": null,
   "metadata": {},
   "outputs": [],
   "source": [
    "tech['betweenness_centrality'] = pd.Series(dict(nx.betweenness_centrality(g)))\n",
    "tech.head()"
   ]
  },
  {
   "cell_type": "code",
   "execution_count": null,
   "metadata": {},
   "outputs": [],
   "source": [
    "tech['closeness_centrality'] = pd.Series(dict(nx.closeness_centrality(g)))\n",
    "tech.head()"
   ]
  },
  {
   "cell_type": "code",
   "execution_count": null,
   "metadata": {},
   "outputs": [],
   "source": [
    "tech.sort_values(by='betweenness_centrality', ascending=False)[['group_name','betweenness_centrality']].head(10)"
   ]
  },
  {
   "cell_type": "code",
   "execution_count": null,
   "metadata": {},
   "outputs": [],
   "source": [
    "tech.sort_values(by='closeness_centrality', ascending=False)[['group_name','closeness_centrality']].head(10)"
   ]
  },
  {
   "cell_type": "code",
   "execution_count": null,
   "metadata": {},
   "outputs": [],
   "source": []
  }
 ],
 "metadata": {
  "kernelspec": {
   "display_name": "Python 3",
   "language": "python",
   "name": "python3"
  },
  "language_info": {
   "codemirror_mode": {
    "name": "ipython",
    "version": 3
   },
   "file_extension": ".py",
   "mimetype": "text/x-python",
   "name": "python",
   "nbconvert_exporter": "python",
   "pygments_lexer": "ipython3",
   "version": "3.7.1"
  }
 },
 "nbformat": 4,
 "nbformat_minor": 2
}
